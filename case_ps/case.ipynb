{
 "cells": [
  {
   "cell_type": "code",
   "execution_count": 23,
   "metadata": {},
   "outputs": [],
   "source": [
    "import numpy as np\n",
    "import pandas as pd\n",
    "\n",
    "df = pd.read_csv('spotify-2023.csv', encoding = 'latin-1')"
   ]
  },
  {
   "cell_type": "code",
   "execution_count": 18,
   "metadata": {},
   "outputs": [],
   "source": [
    "# track_name: Name of the song -\n",
    "# artist(s)_name: Name of the artist(s) of the song -\n",
    "# artist_count: Number of artists contributing to the song\n",
    "# released_year: Year when the song was released -\n",
    "# released_month: Month when the song was released -\n",
    "# released_day: Day of the month when the song was released\n",
    "# in_spotify_playlists: Number of Spotify playlists the song is included in\n",
    "# in_spotify_charts: Presence and rank of the song on Spotify charts\n",
    "# streams: Total number of streams on Spotify -\n",
    "# in_apple_playlists: Number of Apple Music playlists the song is included in\n",
    "# in_apple_charts: Presence and rank of the song on Apple Music charts\n",
    "# in_deezer_playlists: Number of Deezer playlists the song is included in\n",
    "# in_deezer_charts: Presence and rank of the song on Deezer charts\n",
    "# in_shazam_charts: Presence and rank of the song on Shazam charts\n",
    "# bpm: Beats per minute, a measure of song tempo -\n",
    "# key: Key of the song\n",
    "# mode: Mode of the song (major or minor)\n",
    "# danceability_%: Percentage indicating how suitable the song is for dancing -\n",
    "# valence_%: Positivity of the song's musical content -\n",
    "# energy_%: Perceived energy level of the song -\n",
    "# acousticness_%: Amount of acoustic sound in the song\n",
    "# instrumentalness_%: Amount of instrumental content in the song\n",
    "# liveness_%: Presence of live performance elements\n",
    "# speechiness_%: Amount of spoken words in the song -"
   ]
  },
  {
   "cell_type": "markdown",
   "metadata": {},
   "source": [
    "## Hipóteses\n",
    "\n",
    "Músicas mais dançáveis e energéticas são as mais positivas e com maior presença de voz (palavras na música.)\n",
    "\n",
    "\n",
    "danceability/valence/energy/speechness\n",
    "\n",
    "\n"
   ]
  },
  {
   "cell_type": "markdown",
   "metadata": {},
   "source": [
    "As músicas mais populares saem mais próximos de períodos festivos. Natal/Ano novo\n",
    "\n",
    "stream/released_month"
   ]
  },
  {
   "cell_type": "markdown",
   "metadata": {},
   "source": [
    "As top 10 músicas mais tocadas no Spotify em 2023 tem um bpm maior que a média das outras músicas.\n",
    "\n",
    "streams/bpm"
   ]
  },
  {
   "cell_type": "markdown",
   "metadata": {},
   "source": [
    "Comparar as top 10 músicas MAIS tocadas e as top 10 músicas MENOS tocadas no Spotify\n",
    "\n",
    "\n",
    "streams/bpm/danceability/valence/energy/acoustiness/instrumentalness/liveness/speechness"
   ]
  },
  {
   "cell_type": "code",
   "execution_count": 21,
   "metadata": {},
   "outputs": [
    {
     "name": "stdout",
     "output_type": "stream",
     "text": [
      "<class 'pandas.core.frame.DataFrame'>\n",
      "RangeIndex: 953 entries, 0 to 952\n",
      "Data columns (total 24 columns):\n",
      " #   Column                Non-Null Count  Dtype \n",
      "---  ------                --------------  ----- \n",
      " 0   track_name            953 non-null    object\n",
      " 1   artist(s)_name        953 non-null    object\n",
      " 2   artist_count          953 non-null    int64 \n",
      " 3   released_year         953 non-null    int64 \n",
      " 4   released_month        953 non-null    int64 \n",
      " 5   released_day          953 non-null    int64 \n",
      " 6   in_spotify_playlists  953 non-null    int64 \n",
      " 7   in_spotify_charts     953 non-null    int64 \n",
      " 8   streams               953 non-null    object\n",
      " 9   in_apple_playlists    953 non-null    int64 \n",
      " 10  in_apple_charts       953 non-null    int64 \n",
      " 11  in_deezer_playlists   953 non-null    object\n",
      " 12  in_deezer_charts      953 non-null    int64 \n",
      " 13  in_shazam_charts      903 non-null    object\n",
      " 14  bpm                   953 non-null    int64 \n",
      " 15  key                   858 non-null    object\n",
      " 16  mode                  953 non-null    object\n",
      " 17  danceability_%        953 non-null    int64 \n",
      " 18  valence_%             953 non-null    int64 \n",
      " 19  energy_%              953 non-null    int64 \n",
      " 20  acousticness_%        953 non-null    int64 \n",
      " 21  instrumentalness_%    953 non-null    int64 \n",
      " 22  liveness_%            953 non-null    int64 \n",
      " 23  speechiness_%         953 non-null    int64 \n",
      "dtypes: int64(17), object(7)\n",
      "memory usage: 178.8+ KB\n"
     ]
    }
   ],
   "source": [
    "df.info()"
   ]
  },
  {
   "cell_type": "code",
   "execution_count": null,
   "metadata": {},
   "outputs": [],
   "source": []
  },
  {
   "cell_type": "code",
   "execution_count": 58,
   "metadata": {},
   "outputs": [
    {
     "name": "stdout",
     "output_type": "stream",
     "text": [
      " A diferença da coluna artist_count é -0.08\n",
      " A diferença da coluna released_year é 2.48\n",
      " A diferença da coluna released_month é -3.76\n",
      " A diferença da coluna released_day é 2.76\n",
      " A diferença da coluna in_spotify_playlists é 165.46\n",
      " A diferença da coluna in_spotify_charts é 74.50\n",
      " A diferença da coluna in_apple_playlists é 35.82\n",
      " A diferença da coluna in_apple_charts é 156.90\n",
      " A diferença da coluna in_deezer_charts é 12.44\n",
      " A diferença da coluna bpm é 10.30\n",
      " A diferença da coluna danceability_% é 3.72\n",
      " A diferença da coluna valence_% é 11.10\n",
      " A diferença da coluna energy_% é 8.14\n",
      " A diferença da coluna acousticness_% é 0.82\n",
      " A diferença da coluna instrumentalness_% é 0.56\n",
      " A diferença da coluna liveness_% é -4.82\n",
      " A diferença da coluna speechiness_% é -2.38\n"
     ]
    }
   ],
   "source": [
    "colunas = df.select_dtypes(include='number').columns\n",
    "df1 = df.head(10)\n",
    "df2 = df.tail(50)\n",
    "\n",
    "for coluna in colunas:\n",
    "    dif = df1[coluna].mean() - df2[coluna].mean()\n",
    "    print(f\" A diferença da coluna {coluna} é {dif:.2f}\")"
   ]
  },
  {
   "cell_type": "code",
   "execution_count": 42,
   "metadata": {},
   "outputs": [
    {
     "data": {
      "text/html": [
       "<div>\n",
       "<style scoped>\n",
       "    .dataframe tbody tr th:only-of-type {\n",
       "        vertical-align: middle;\n",
       "    }\n",
       "\n",
       "    .dataframe tbody tr th {\n",
       "        vertical-align: top;\n",
       "    }\n",
       "\n",
       "    .dataframe thead th {\n",
       "        text-align: right;\n",
       "    }\n",
       "</style>\n",
       "<table border=\"1\" class=\"dataframe\">\n",
       "  <thead>\n",
       "    <tr style=\"text-align: right;\">\n",
       "      <th></th>\n",
       "      <th>danceability_%</th>\n",
       "      <th>valence_%</th>\n",
       "      <th>energy_%</th>\n",
       "    </tr>\n",
       "  </thead>\n",
       "  <tbody>\n",
       "    <tr>\n",
       "      <th>count</th>\n",
       "      <td>953.00000</td>\n",
       "      <td>953.000000</td>\n",
       "      <td>953.000000</td>\n",
       "    </tr>\n",
       "    <tr>\n",
       "      <th>mean</th>\n",
       "      <td>66.96957</td>\n",
       "      <td>51.431270</td>\n",
       "      <td>64.279119</td>\n",
       "    </tr>\n",
       "    <tr>\n",
       "      <th>std</th>\n",
       "      <td>14.63061</td>\n",
       "      <td>23.480632</td>\n",
       "      <td>16.550526</td>\n",
       "    </tr>\n",
       "    <tr>\n",
       "      <th>min</th>\n",
       "      <td>23.00000</td>\n",
       "      <td>4.000000</td>\n",
       "      <td>9.000000</td>\n",
       "    </tr>\n",
       "    <tr>\n",
       "      <th>25%</th>\n",
       "      <td>57.00000</td>\n",
       "      <td>32.000000</td>\n",
       "      <td>53.000000</td>\n",
       "    </tr>\n",
       "    <tr>\n",
       "      <th>50%</th>\n",
       "      <td>69.00000</td>\n",
       "      <td>51.000000</td>\n",
       "      <td>66.000000</td>\n",
       "    </tr>\n",
       "    <tr>\n",
       "      <th>75%</th>\n",
       "      <td>78.00000</td>\n",
       "      <td>70.000000</td>\n",
       "      <td>77.000000</td>\n",
       "    </tr>\n",
       "    <tr>\n",
       "      <th>max</th>\n",
       "      <td>96.00000</td>\n",
       "      <td>97.000000</td>\n",
       "      <td>97.000000</td>\n",
       "    </tr>\n",
       "  </tbody>\n",
       "</table>\n",
       "</div>"
      ],
      "text/plain": [
       "       danceability_%   valence_%    energy_%\n",
       "count       953.00000  953.000000  953.000000\n",
       "mean         66.96957   51.431270   64.279119\n",
       "std          14.63061   23.480632   16.550526\n",
       "min          23.00000    4.000000    9.000000\n",
       "25%          57.00000   32.000000   53.000000\n",
       "50%          69.00000   51.000000   66.000000\n",
       "75%          78.00000   70.000000   77.000000\n",
       "max          96.00000   97.000000   97.000000"
      ]
     },
     "execution_count": 42,
     "metadata": {},
     "output_type": "execute_result"
    }
   ],
   "source": [
    "df[[\"danceability_%\", \"valence_%\", \"energy_%\"]].describe()"
   ]
  }
 ],
 "metadata": {
  "kernelspec": {
   "display_name": "Python 3",
   "language": "python",
   "name": "python3"
  },
  "language_info": {
   "codemirror_mode": {
    "name": "ipython",
    "version": 3
   },
   "file_extension": ".py",
   "mimetype": "text/x-python",
   "name": "python",
   "nbconvert_exporter": "python",
   "pygments_lexer": "ipython3",
   "version": "3.12.0"
  }
 },
 "nbformat": 4,
 "nbformat_minor": 2
}
