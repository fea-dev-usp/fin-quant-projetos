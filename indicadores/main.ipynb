{
 "cells": [
  {
   "cell_type": "code",
   "execution_count": null,
   "metadata": {},
   "outputs": [],
   "source": [
    "# Indicadores que queremos encontrar\n",
    "# VPA - Valor Patrimonial por Ação - 1.5x\n",
    "# LPA - Lucro por Ação - 15x\n",
    "# (22.5 * VPA * LPA) ** (1/2)"
   ]
  },
  {
   "cell_type": "code",
   "execution_count": null,
   "metadata": {},
   "outputs": [],
   "source": [
    "# mocking - requests em massa\n",
    "# zipfiles - biblioteca arquivo zip\n",
    "# scrapy - biblioteca de scrapping\n",
    "# https://dados.cvm.gov.br/dataset/cia_aberta-doc-itr - site"
   ]
  },
  {
   "cell_type": "code",
   "execution_count": 42,
   "metadata": {},
   "outputs": [
    {
     "name": "stderr",
     "output_type": "stream",
     "text": [
      "c:\\Users\\Andre\\AppData\\Local\\Programs\\Python\\Python312\\Lib\\site-packages\\fundamentus\\resultado.py:50: FutureWarning: Passing literal html to 'read_html' is deprecated and will be removed in a future version. To read from a literal string, wrap it in a 'StringIO' object.\n",
      "  df = pd.read_html(content.text, decimal=\",\", thousands='.')[0]\n"
     ]
    }
   ],
   "source": [
    "import fundamentus\n",
    "\n",
    "list_tickers = fundamentus.get_resultado()\n",
    "list_tickers = list(list_tickers.index)"
   ]
  },
  {
   "cell_type": "code",
   "execution_count": 67,
   "metadata": {},
   "outputs": [],
   "source": [
    "import requests\n",
    "from bs4 import BeautifulSoup\n",
    "from pprint import pprint\n",
    "from fake_useragent import UserAgent\n",
    "\n",
    "def extrair_indicadores(cell):\n",
    "    indicador_data = {}\n",
    "    \n",
    "    indicador_data['nome'] = cell.find('span', class_='d-flex').text.strip(\"\\n\")\n",
    "    \n",
    "    valor_span = cell.find('div', class_='value').find('span')\n",
    "    if valor_span:\n",
    "        indicador_data['valor'] = valor_span.text.strip()\n",
    "    \n",
    "    return indicador_data\n",
    "\n",
    "def get_data(ticker):\n",
    "    url_info = f\"https://investidor10.com.br/acoes/{ticker.lower()}/\"\n",
    "    \n",
    "    headers = {\"User-Agent\": UserAgent().random}\n",
    "\n",
    "    response = requests.get(url_info, headers=headers)\n",
    "    if response.status_code != 200:\n",
    "        return None\n",
    "    \n",
    "    soup = BeautifulSoup(response.content, \"html.parser\")\n",
    "    table_indicators = soup.find(\"div\", id=\"table-indicators\")\n",
    "\n",
    "    data = {}\n",
    "\n",
    "    for cell in table_indicators.find_all(\"div\", class_=\"cell\"):\n",
    "        indicador_data = extrair_indicadores(cell)\n",
    "        data[indicador_data['nome']] = indicador_data['valor']\n",
    "\n",
    "    print(f\"Dados: {ticker}\")\n",
    "    return data\n"
   ]
  },
  {
   "cell_type": "code",
   "execution_count": 68,
   "metadata": {},
   "outputs": [
    {
     "name": "stdout",
     "output_type": "stream",
     "text": [
      "Dados: AALR3\n",
      "Dados: ABCB4\n",
      "Dados: ABEV3\n",
      "Dados: ADHM3\n"
     ]
    }
   ],
   "source": [
    "info = {}\n",
    "for ticker in list_tickers[:10]:\n",
    "    data = get_data(ticker)\n",
    "    if data:\n",
    "        conta = (22.5 * float(data[\"VPA \"].replace(\",\", \".\")) * float(data[\"LPA \"].replace(\",\", \".\"))) ** (1/2)\n",
    "        try:\n",
    "            info[ticker] = round(conta, 2)\n",
    "        except TypeError:\n",
    "            info[ticker] = conta"
   ]
  },
  {
   "cell_type": "code",
   "execution_count": 69,
   "metadata": {},
   "outputs": [
    {
     "data": {
      "text/plain": [
       "{'AALR3': (1.2676292338605709e-15+20.70195642928465j),\n",
       " 'ABCB4': 44.58,\n",
       " 'ABEV3': 11.13,\n",
       " 'ADHM3': 3.22}"
      ]
     },
     "execution_count": 69,
     "metadata": {},
     "output_type": "execute_result"
    }
   ],
   "source": [
    "info"
   ]
  }
 ],
 "metadata": {
  "kernelspec": {
   "display_name": "Python 3",
   "language": "python",
   "name": "python3"
  },
  "language_info": {
   "codemirror_mode": {
    "name": "ipython",
    "version": 3
   },
   "file_extension": ".py",
   "mimetype": "text/x-python",
   "name": "python",
   "nbconvert_exporter": "python",
   "pygments_lexer": "ipython3",
   "version": "3.12.0"
  }
 },
 "nbformat": 4,
 "nbformat_minor": 2
}
