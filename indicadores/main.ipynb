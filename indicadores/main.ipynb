{
 "cells": [
  {
   "cell_type": "code",
   "execution_count": null,
   "metadata": {},
   "outputs": [],
   "source": [
    "# Indicadores que queremos encontrar\n",
    "# VPA - Valor Patrimonial por Ação - 1.5x\n",
    "# LPA - Lucro por Ação - 15x\n",
    "# (22.5 * VPA * LPA) ** (1/2)"
   ]
  },
  {
   "cell_type": "code",
   "execution_count": null,
   "metadata": {},
   "outputs": [],
   "source": [
    "# mocking - requests em massa\n",
    "# zipfiles - biblioteca arquivo zip\n",
    "# scrapy - biblioteca de scrapping\n",
    "# https://dados.cvm.gov.br/dataset/cia_aberta-doc-itr - site"
   ]
  },
  {
   "cell_type": "code",
   "execution_count": 9,
   "metadata": {},
   "outputs": [
    {
     "name": "stderr",
     "output_type": "stream",
     "text": [
      "c:\\Users\\Andre\\AppData\\Local\\Programs\\Python\\Python312\\Lib\\site-packages\\fundamentus\\resultado.py:50: FutureWarning: Passing literal html to 'read_html' is deprecated and will be removed in a future version. To read from a literal string, wrap it in a 'StringIO' object.\n",
      "  df = pd.read_html(content.text, decimal=\",\", thousands='.')[0]\n"
     ]
    }
   ],
   "source": [
    "import requests as req\n",
    "import fundamentus\n",
    "\n",
    "list_tickers = fundamentus.get_resultado()\n",
    "list_tickers = list(list_tickers.index)"
   ]
  },
  {
   "cell_type": "code",
   "execution_count": 11,
   "metadata": {},
   "outputs": [
    {
     "ename": "HTTPError",
     "evalue": "403 Client Error: Forbidden for url: https://investidor10.com.br/acoes/petr4/",
     "output_type": "error",
     "traceback": [
      "\u001b[1;31m---------------------------------------------------------------------------\u001b[0m",
      "\u001b[1;31mHTTPError\u001b[0m                                 Traceback (most recent call last)",
      "\u001b[1;32mc:\\Users\\Andre\\OneDrive\\Documentos\\Github\\fin-quant-projetos\\indicadores\\main.ipynb Célula 4\u001b[0m line \u001b[0;36m6\n\u001b[0;32m      <a href='vscode-notebook-cell:/c%3A/Users/Andre/OneDrive/Documentos/Github/fin-quant-projetos/indicadores/main.ipynb#X12sZmlsZQ%3D%3D?line=2'>3</a>\u001b[0m url_info \u001b[39m=\u001b[39m \u001b[39mf\u001b[39m\u001b[39m\"\u001b[39m\u001b[39mhttps://investidor10.com.br/acoes/\u001b[39m\u001b[39m{\u001b[39;00mticker\u001b[39m.\u001b[39mlower()\u001b[39m}\u001b[39;00m\u001b[39m/\u001b[39m\u001b[39m\"\u001b[39m\n\u001b[0;32m      <a href='vscode-notebook-cell:/c%3A/Users/Andre/OneDrive/Documentos/Github/fin-quant-projetos/indicadores/main.ipynb#X12sZmlsZQ%3D%3D?line=4'>5</a>\u001b[0m response \u001b[39m=\u001b[39m req\u001b[39m.\u001b[39mget(url_info)\n\u001b[1;32m----> <a href='vscode-notebook-cell:/c%3A/Users/Andre/OneDrive/Documentos/Github/fin-quant-projetos/indicadores/main.ipynb#X12sZmlsZQ%3D%3D?line=5'>6</a>\u001b[0m response\u001b[39m.\u001b[39;49mraise_for_status()\n\u001b[0;32m      <a href='vscode-notebook-cell:/c%3A/Users/Andre/OneDrive/Documentos/Github/fin-quant-projetos/indicadores/main.ipynb#X12sZmlsZQ%3D%3D?line=6'>7</a>\u001b[0m response\u001b[39m.\u001b[39mjson()\n",
      "File \u001b[1;32mc:\\Users\\Andre\\AppData\\Local\\Programs\\Python\\Python312\\Lib\\site-packages\\requests\\models.py:1021\u001b[0m, in \u001b[0;36mResponse.raise_for_status\u001b[1;34m(self)\u001b[0m\n\u001b[0;32m   1016\u001b[0m     http_error_msg \u001b[39m=\u001b[39m (\n\u001b[0;32m   1017\u001b[0m         \u001b[39mf\u001b[39m\u001b[39m\"\u001b[39m\u001b[39m{\u001b[39;00m\u001b[39mself\u001b[39m\u001b[39m.\u001b[39mstatus_code\u001b[39m}\u001b[39;00m\u001b[39m Server Error: \u001b[39m\u001b[39m{\u001b[39;00mreason\u001b[39m}\u001b[39;00m\u001b[39m for url: \u001b[39m\u001b[39m{\u001b[39;00m\u001b[39mself\u001b[39m\u001b[39m.\u001b[39murl\u001b[39m}\u001b[39;00m\u001b[39m\"\u001b[39m\n\u001b[0;32m   1018\u001b[0m     )\n\u001b[0;32m   1020\u001b[0m \u001b[39mif\u001b[39;00m http_error_msg:\n\u001b[1;32m-> 1021\u001b[0m     \u001b[39mraise\u001b[39;00m HTTPError(http_error_msg, response\u001b[39m=\u001b[39m\u001b[39mself\u001b[39m)\n",
      "\u001b[1;31mHTTPError\u001b[0m: 403 Client Error: Forbidden for url: https://investidor10.com.br/acoes/petr4/"
     ]
    }
   ],
   "source": [
    "ticker = \"PETR4\"\n",
    "\n",
    "url_info = f\"https://investidor10.com.br/acoes/{ticker.lower()}/\"\n",
    "\n",
    "response = req.get(url_info)\n",
    "response.raise_for_status()\n",
    "response.json()"
   ]
  },
  {
   "cell_type": "code",
   "execution_count": 8,
   "metadata": {},
   "outputs": [
    {
     "data": {
      "text/plain": [
       "Multiples\n",
       "cotacao     3.527000e+01\n",
       "pl          3.360000e+00\n",
       "pvp         1.190000e+00\n",
       "psr         8.580000e-01\n",
       "dy          2.055000e-01\n",
       "pa          4.490000e-01\n",
       "pcg        -6.337000e+01\n",
       "pebit       1.910000e+00\n",
       "pacl       -9.400000e-01\n",
       "evebit      2.900000e+00\n",
       "evebitda    2.210000e+00\n",
       "mrgebit     4.492000e-01\n",
       "mrgliq      2.564000e-01\n",
       "roic        2.576000e-01\n",
       "roe         3.547000e-01\n",
       "liqc        9.500000e-01\n",
       "liq2m       1.872470e+09\n",
       "patrliq     3.860070e+11\n",
       "divbpatr    7.900000e-01\n",
       "c5y         2.027000e-01\n",
       "Name: PETR4, dtype: float64"
      ]
     },
     "execution_count": 8,
     "metadata": {},
     "output_type": "execute_result"
    }
   ],
   "source": []
  }
 ],
 "metadata": {
  "kernelspec": {
   "display_name": "Python 3",
   "language": "python",
   "name": "python3"
  },
  "language_info": {
   "codemirror_mode": {
    "name": "ipython",
    "version": 3
   },
   "file_extension": ".py",
   "mimetype": "text/x-python",
   "name": "python",
   "nbconvert_exporter": "python",
   "pygments_lexer": "ipython3",
   "version": "3.12.0"
  }
 },
 "nbformat": 4,
 "nbformat_minor": 2
}
